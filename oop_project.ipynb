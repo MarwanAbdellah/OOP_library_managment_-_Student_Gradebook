{
  "cells": [
    {
      "cell_type": "markdown",
      "metadata": {
        "id": "uIsH48xnKVL8"
      },
      "source": [
        "#Personal Library Management System\n",
        "\n"
      ]
    },
    {
      "cell_type": "markdown",
      "metadata": {
        "id": "fm4CZddPnzLJ"
      },
      "source": []
    },
    {
      "cell_type": "markdown",
      "metadata": {
        "id": "OUy6TsCQJQuh"
      },
      "source": [
        "<div class=\"markdown prose w-full break-words dark:prose-invert light\"><p>Project Title: <strong>Personal Library Management System</strong></p><p><strong>Project Description:</strong>\n",
        "For this project, you will be building a Personal Library Management System using the Python programming concepts you've learned so far. This system will allow users to manage their personal book collection, add new books, remove books, search for books, and store information about each book.</p><p><strong>Project Requirements:</strong></p><ol><li><p><strong>Class Definitions:</strong></p><ul><li>Create a class named <code>Book</code> to represent a book with attributes like title, author, genre, and publication year.</li><li>Create a class named <code>Library</code> to represent the personal library. This class should have methods to add a book, remove a book, search for a book by title or author, and display the entire library.</li></ul></li><li><p><strong>Data Structure:</strong></p><ul><li>Use appropriate data structures like lists, dictionaries, or sets to store and manage the collection of books in the library.</li></ul></li><li><p><strong>File Handling:</strong></p><ul><li>Implement methods in the <code>Library</code> class to save and load the library data to/from a text or CSV file. This will ensure that the library data is persistent across different program executions.</li></ul></li><li><p><strong>Exception Handling:</strong></p><ul><li>Implement exception handling to handle potential errors gracefully. For instance, handle cases where a book is not found, a file is not found, or input validation errors occur.</li></ul></li><li><p><strong>User Interaction:</strong></p><ul><li>Create a user-friendly command-line interface that allows users to interact with the library. Provide options to add a book, remove a book, search for a book, and display the entire library.</li></ul></li></ol><p><strong>Project Steps:</strong></p><ol><li><p><strong>Class Definitions:</strong></p><ul><li>Define the <code>Book</code> class with appropriate attributes and a constructor.</li><li>Define the <code>Library</code> class with methods for adding, removing, searching, and displaying books.</li></ul></li><li><p><strong>Data Structure:</strong></p><ul><li>Initialize an empty data structure (list or dictionary) in the <code>Library</code> class to store the book objects.</li></ul></li><li><p><strong>File Handling:</strong></p><ul><li>Implement methods in the <code>Library</code> class to save the library data to a file (e.g., \"library.txt\" or \"library.csv\").</li><li>Implement methods to load the library data from the file during program startup.</li></ul></li><li><p><strong>Exception Handling:</strong></p><ul><li>Implement try-except blocks to handle errors related to user input, file operations, and book search.</li></ul></li><li><p><strong>User Interaction:</strong></p><ul><li>Create a user-friendly menu that presents options to the user (e.g., \"Add a book,\" \"Search for a book,\" etc.).</li><li>Based on the user's choice, call the appropriate methods in the <code>Library</code> class.</li></ul></li></ol><p><strong>Project Extensions:</strong>\n",
        "If you'd like to take this project further, consider adding the following features:</p><ul><li>Implement a graphical user interface (GUI) using a library like Tkinter or PyQt.</li><li>Allow users to rate and review books.</li><li>Sort and display books by different criteria (e.g., title, author, genre).</li><li>Provide recommendations based on the user's reading history.</li><li>Integrate an online book API to fetch book details automatically.</li></ul>\n",
        "</div>"
      ]
    },
    {
      "cell_type": "code",
      "execution_count": 1,
      "metadata": {
        "id": "XEuDmR56JNzb"
      },
      "outputs": [],
      "source": [
        "import csv\n",
        "\n",
        "class Book:\n",
        "    def __init__(self, title, author, genre, publication_year):\n",
        "        self.title = title\n",
        "        self.author = author\n",
        "        self.genre = genre\n",
        "        self.publication_year = publication_year\n",
        "\n",
        "    def __str__(self):\n",
        "        return f\"{self.title} by {self.author} ({self.genre}, {self.publication_year})\"\n",
        "\n",
        "class Library:\n",
        "    def __init__(self):\n",
        "        self.books = []\n",
        "\n",
        "    def add_book(self, book):\n",
        "        self.books.append(book)\n",
        "        print(f\"Added: {book}\")\n",
        "\n",
        "    def remove_book(self, title):\n",
        "        for book in self.books:\n",
        "            if book.title == title:\n",
        "                self.books.remove(book)\n",
        "                print(f\"Removed: {book}\")\n",
        "                return\n",
        "        print(\"Book not found!\")\n",
        "\n",
        "    def search_book(self, keyword):\n",
        "        found_books = [book for book in self.books if keyword.lower() in book.title.lower() or keyword.lower() in book.author.lower()]\n",
        "        if found_books:\n",
        "            print(\"Search Results:\")\n",
        "            for book in found_books:\n",
        "                print(book)\n",
        "        else:\n",
        "            print(\"No books found.\")\n",
        "\n",
        "    def display_books(self):\n",
        "        if not self.books:\n",
        "            print(\"Library is empty.\")\n",
        "        else:\n",
        "            print(\"Library Collection:\")\n",
        "            for book in self.books:\n",
        "                print(book)\n",
        "\n",
        "    def save_to_file(self, filename=\"library.csv\"):\n",
        "        with open(filename, \"w\", newline=\"\") as file:\n",
        "            writer = csv.writer(file)\n",
        "            writer.writerow([\"Title\", \"Author\", \"Genre\", \"Publication Year\"])\n",
        "            for book in self.books:\n",
        "                writer.writerow([book.title, book.author, book.genre, book.publication_year])\n",
        "        print(f\"Library saved to {filename}\")\n",
        "\n",
        "    def load_from_file(self, filename=\"library.csv\"):\n",
        "        try:\n",
        "            with open(filename, \"r\") as file:\n",
        "                reader = csv.DictReader(file)\n",
        "                self.books = [Book(row[\"Title\"], row[\"Author\"], row[\"Genre\"], row[\"Publication Year\"]) for row in reader]\n",
        "            print(f\"Library loaded from {filename}\")\n",
        "        except FileNotFoundError:\n",
        "            print(\"File not found. Starting with an empty library.\")"
      ]
    },
    {
      "cell_type": "code",
      "execution_count": 4,
      "metadata": {},
      "outputs": [
        {
          "name": "stdout",
          "output_type": "stream",
          "text": [
            "Added: 1984 by George Orwell (Dystopian, 1949)\n",
            "Library Collection:\n",
            "1984 by George Orwell (Dystopian, 1949)\n",
            "Library saved to library.csv\n"
          ]
        }
      ],
      "source": [
        "library = Library()\n",
        "library.add_book(Book(\"1984\", \"George Orwell\", \"Dystopian\", 1949))\n",
        "library.display_books()\n",
        "library.save_to_file()"
      ]
    },
    {
      "cell_type": "markdown",
      "metadata": {
        "id": "oJ3orTXEKMZ9"
      },
      "source": [
        "#Student Grade Tracker\n"
      ]
    },
    {
      "cell_type": "markdown",
      "metadata": {
        "id": "u5eui15CKF4r"
      },
      "source": [
        "<div class=\"markdown prose w-full break-words dark:prose-invert light\"><strong>Project Title: Student Grade Tracker</strong></p><p><strong>Project Description:</strong>\n",
        "In this project, you will build a Student Grade Tracker program that allows users to enter and manage student grades for different subjects. You'll utilize Python's basic data structures, file handling, exception handling, and object-oriented programming concepts to implement this project.</p><p><strong>Project Requirements:</strong></p><ol><li><p><strong>Class Definitions:</strong></p><ul><li>Create a class named <code>Student</code> to represent a student with attributes like name and a dictionary to store subject grades.</li><li>Create a class named <code>Subject</code> to represent a subject with attributes like name and grades.</li></ul></li><li><p><strong>Data Structure:</strong></p><ul><li>Use dictionaries and lists to organize student and subject information.</li></ul></li><li><p><strong>File Handling:</strong></p><ul><li>Implement methods to save and load student data to/from a text file.</li><li>Store each student's name, subjects, and respective grades.</li></ul></li><li><p><strong>Exception Handling:</strong></p><ul><li>Implement exception handling to handle input errors, file errors, and grade validation (ensure grades are within a valid range).</li></ul></li><li><p><strong>User Interaction:</strong></p><ul><li>Create a user-friendly command-line interface that allows users to add students, add subjects and grades, view student grades, and save/load data.</li></ul></li></ol><p><strong>Project Steps:</strong></p><ol><li><p><strong>Class Definitions:</strong></p><ul><li>Define the <code>Student</code> class with attributes for the student's name and a dictionary to store subjects and grades.</li><li>Define the <code>Subject</code> class with attributes for the subject's name and a list to store grades.</li></ul></li><li><p><strong>Data Structure:</strong></p><ul><li>Create a dictionary to store student objects, where keys are student names and values are corresponding <code>Student</code> objects.</li></ul></li><li><p><strong>File Handling:</strong></p><ul><li>Implement methods to save student data to a text file and load data from the file.</li><li>Use a format that allows you to save and load student names, subjects, and grades.</li></ul></li><li><p><strong>Exception Handling:</strong></p><ul><li>Use try-except blocks to handle errors such as invalid inputs and file-related issues.</li></ul></li><li><p><strong>User Interaction:</strong></p><ul><li>Create a loop that presents a menu of options to the user (e.g., \"Add Student,\" \"Add Subject and Grade,\" \"View Student Grades,\" \"Save and Exit\").</li><li>Based on the user's choice, call the appropriate methods in your classes to perform the desired actions.</li></ul></li></ol><p><strong>Project Extensions:</strong>\n",
        "To extend the project's functionality, consider adding the following features:</p><ul><li>Calculate and display each student's average grade.</li><li>Allow users to update or delete students, subjects, and grades.</li><li>Implement a basic graphical user interface using the <code>tkinter</code> library.</li><li>Allow users to export student grade reports to a text or CSV file.</li></ul></div>"
      ]
    },
    {
      "cell_type": "code",
      "execution_count": 6,
      "metadata": {
        "id": "lzDyY9AJKe5s"
      },
      "outputs": [],
      "source": [
        "import csv\n",
        "\n",
        "class Student:\n",
        "    def __init__(self, name):\n",
        "        self.name = name\n",
        "        self.grades = {}  # Subject: Grade key-value pairs\n",
        "\n",
        "    def add_grade(self, subject, grade):\n",
        "        self.grades[subject] = grade\n",
        "\n",
        "    def get_average(self):\n",
        "        return sum(self.grades.values()) / len(self.grades) if self.grades else 0\n",
        "\n",
        "    def __str__(self):\n",
        "        return f\"{self.name}: {self.grades}\"\n",
        "\n",
        "class GradeTracker:\n",
        "    def __init__(self):\n",
        "        self.students = {}  # {student_name: Student}\n",
        "\n",
        "    def add_student(self, name):\n",
        "        if name not in self.students:\n",
        "            self.students[name] = Student(name)\n",
        "            print(f\"Added student: {name}\")\n",
        "        else:\n",
        "            print(\"Student already exists.\")\n",
        "\n",
        "    def add_grade(self, name, subject, grade):\n",
        "        if name in self.students:\n",
        "            self.students[name].add_grade(subject, grade)\n",
        "            print(f\"Added grade for {name}: {subject} - {grade}\")\n",
        "        else:\n",
        "            print(\"Student not found!\")\n",
        "\n",
        "    def display_students(self):\n",
        "        if not self.students:\n",
        "            print(\"No students in the system.\")\n",
        "        else:\n",
        "            for student in self.students.values():\n",
        "                print(student)\n",
        "\n",
        "    def save_to_file(self, filename=\"grades.csv\"):\n",
        "        with open(filename, \"w\", newline=\"\") as file:\n",
        "            writer = csv.writer(file)\n",
        "            writer.writerow([\"Student Name\", \"Subject\", \"Grade\"])\n",
        "            for name, student in self.students.items():\n",
        "                for subject, grade in student.grades.items():\n",
        "                    writer.writerow([name, subject, grade])\n",
        "        print(f\"Data saved to {filename}\")\n",
        "\n",
        "    def load_from_file(self, filename=\"grades.csv\"):\n",
        "        try:\n",
        "            with open(filename, \"r\") as file:\n",
        "                reader = csv.reader(file)\n",
        "                next(reader)  # Skip header\n",
        "                self.students = {}\n",
        "                for row in reader:\n",
        "                    name, subject, grade = row\n",
        "                    if name not in self.students:\n",
        "                        self.students[name] = Student(name)\n",
        "                    self.students[name].add_grade(subject, int(grade))\n",
        "            print(f\"Data loaded from {filename}\")\n",
        "        except FileNotFoundError:\n",
        "            print(\"File not found. Starting with an empty tracker.\")"
      ]
    },
    {
      "cell_type": "code",
      "execution_count": 7,
      "metadata": {},
      "outputs": [
        {
          "name": "stdout",
          "output_type": "stream",
          "text": [
            "Added student: Alice\n",
            "Added grade for Alice: Math - 95\n",
            "Added grade for Alice: Science - 89\n",
            "Alice: {'Math': 95, 'Science': 89}\n",
            "Data saved to grades.csv\n"
          ]
        }
      ],
      "source": [
        "tracker = GradeTracker()\n",
        "tracker.add_student(\"Alice\")\n",
        "tracker.add_grade(\"Alice\", \"Math\", 95)\n",
        "tracker.add_grade(\"Alice\", \"Science\", 89)\n",
        "tracker.display_students()\n",
        "tracker.save_to_file()"
      ]
    },
    {
      "cell_type": "markdown",
      "metadata": {
        "id": "2BTuq4_yfzTq"
      },
      "source": [
        "# Library Management System - Coding Exercise"
      ]
    },
    {
      "cell_type": "markdown",
      "metadata": {
        "id": "3t7pX0uNgsOB"
      },
      "source": [
        "### Your task is to create a simple Library Management System using Object-Oriented Programming (OOP) principles in Python. The system should have the following classes:"
      ]
    },
    {
      "cell_type": "markdown",
      "metadata": {
        "id": "1HGjkUoLkqJn"
      },
      "source": [
        "## class book\n",
        "###attributes:\n",
        "####title: Title of the book\n",
        "####author: Author of the book\n",
        "####isbn: ISBN of the book\n",
        "####checked_out: Boolean indicating whether the book is checked out\n",
        "###Methods\n",
        "####__init__(self, title, author, isbn): Constructor to initialize the attributes\n",
        "####__str__(self): Returns a string representation of the book in the format \"Title by Author\""
      ]
    },
    {
      "cell_type": "markdown",
      "metadata": {
        "id": "jReJrKZ4kqMj"
      },
      "source": [
        "## class Patron\n",
        "###attributes:\n",
        "####name: Name of the patron\n",
        "####patron_id: Patron ID\n",
        "####checked_out_books: List of checked out books (initially empty)\n",
        "\n",
        "###Methods\n",
        "####__init__(self, name, patron_id): Constructor to initialize the attributes\n",
        "####_str__(self): Returns the name of the patron"
      ]
    },
    {
      "cell_type": "markdown",
      "metadata": {
        "id": "t3b9ZlbRkqPV"
      },
      "source": [
        "## class Library\n",
        "###attributes:\n",
        "####books: List to store Book instances\n",
        "####atrons: List to store Patron instances\n",
        "\n",
        "###Methods\n",
        "####__init__(self): Constructor to initialize the lists\n",
        "####dd_book(self, book): Adds a Book instance to the list of books\n",
        "####dd_patron(self, patron): Adds a Patron instance to the list of patrons\n",
        "####heck_out(self, patron, book): Checks out a book for a patron if available\n",
        "####heck_in(self, patron, book): Checks in a book returned by a patron\n",
        "####ist_checked_out_books(self, patron): Returns a list of strings representing checked out books by a patron"
      ]
    },
    {
      "cell_type": "markdown",
      "metadata": {
        "id": "vmkjS1z4kqSy"
      },
      "source": []
    },
    {
      "cell_type": "code",
      "execution_count": 10,
      "metadata": {
        "id": "q0304OaMgkF6"
      },
      "outputs": [],
      "source": [
        "class Book:\n",
        "    def __init__(self, title, author, isbn):\n",
        "        self.title = title\n",
        "        self.author = author\n",
        "        self.isbn = isbn\n",
        "        self.checked_out = False\n",
        "\n",
        "    def __str__(self):\n",
        "        return f\"{self.title} by {self.author}\"\n",
        "\n",
        "class Patron:\n",
        "    def __init__(self, name, patron_id):\n",
        "        self.name = name\n",
        "        self.patron_id = patron_id\n",
        "        self.checked_out_books = []\n",
        "\n",
        "    def __str__(self):\n",
        "        return self.name\n",
        "\n",
        "class Library:\n",
        "    def __init__(self):\n",
        "        self.books = []\n",
        "        self.patrons = []\n",
        "\n",
        "    def add_book(self, book):\n",
        "        self.books.append(book)\n",
        "        print(f\"Added book: {book}\")\n",
        "\n",
        "    def add_patron(self, patron):\n",
        "        self.patrons.append(patron)\n",
        "        print(f\"Added patron: {patron}\")\n",
        "\n",
        "    def check_out(self, patron, book):\n",
        "        if book in self.books and not book.checked_out:\n",
        "            book.checked_out = True\n",
        "            patron.checked_out_books.append(book)\n",
        "            print(f\"{book} checked out to {patron}.\")\n",
        "        else:\n",
        "            print(\"Book is not available or already checked out.\")\n",
        "\n",
        "    def check_in(self, patron, book):\n",
        "        if book in patron.checked_out_books:\n",
        "            book.checked_out = False\n",
        "            patron.checked_out_books.remove(book)\n",
        "            print(f\"{book} returned by {patron}.\")\n",
        "        else:\n",
        "            print(\"Book not found in patron's list.\")\n",
        "\n",
        "    def list_checked_out_books(self, patron):\n",
        "        if patron.checked_out_books:\n",
        "            print(f\"Books checked out by {patron}:\")\n",
        "            for book in patron.checked_out_books:\n",
        "                print(book)\n",
        "        else:\n",
        "            print(f\"{patron} has no checked-out books.\")"
      ]
    },
    {
      "cell_type": "code",
      "execution_count": 11,
      "metadata": {
        "id": "qvs3dnFkgmVj"
      },
      "outputs": [
        {
          "name": "stdout",
          "output_type": "stream",
          "text": [
            "Added book: The Great Gatsby by F. Scott Fitzgerald\n",
            "Added patron: John Doe\n",
            "The Great Gatsby by F. Scott Fitzgerald checked out to John Doe.\n",
            "Books checked out by John Doe:\n",
            "The Great Gatsby by F. Scott Fitzgerald\n"
          ]
        }
      ],
      "source": [
        "library = Library()\n",
        "book1 = Book(\"The Great Gatsby\", \"F. Scott Fitzgerald\", \"123456789\")\n",
        "patron1 = Patron(\"John Doe\", \"P001\")\n",
        "library.add_book(book1)\n",
        "library.add_patron(patron1)\n",
        "library.check_out(patron1, book1)\n",
        "library.list_checked_out_books(patron1)"
      ]
    }
  ],
  "metadata": {
    "colab": {
      "provenance": []
    },
    "kernelspec": {
      "display_name": "Python 3",
      "language": "python",
      "name": "python3"
    },
    "language_info": {
      "codemirror_mode": {
        "name": "ipython",
        "version": 3
      },
      "file_extension": ".py",
      "mimetype": "text/x-python",
      "name": "python",
      "nbconvert_exporter": "python",
      "pygments_lexer": "ipython3",
      "version": "3.11.9"
    }
  },
  "nbformat": 4,
  "nbformat_minor": 0
}
